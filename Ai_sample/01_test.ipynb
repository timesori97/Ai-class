{
 "cells": [
  {
   "cell_type": "code",
   "execution_count": null,
   "id": "48c33f9d",
   "metadata": {},
   "outputs": [],
   "source": []
  },
  {
   "cell_type": "code",
   "execution_count": 2,
   "id": "51d100bd",
   "metadata": {},
   "outputs": [
    {
     "name": "stdout",
     "output_type": "stream",
     "text": [
      "10\n",
      "<class 'int'>\n"
     ]
    }
   ],
   "source": [
    "#변수 생성과 출력 \n",
    "a = 10 #변수 a를 선언하고 초기값으로 숫자 1-을 대입\n",
    "print(a) #a변수의 값을 출력 \n",
    "print(type(a)) # a변수의 타입을 출력 \n",
    "\n",
    "# 코드를 실행 할 때는 crtl + enter"
   ]
  },
  {
   "cell_type": "code",
   "execution_count": 1,
   "id": "513fccc6",
   "metadata": {},
   "outputs": [
    {
     "name": "stdout",
     "output_type": "stream",
     "text": [
      "abc function\n"
     ]
    }
   ],
   "source": [
    "##함수 선언 \n",
    "def abc():\n",
    "    print(\"abc function\")\n",
    "    \n",
    "abc()    "
   ]
  },
  {
   "cell_type": "code",
   "execution_count": 2,
   "id": "86768b66",
   "metadata": {},
   "outputs": [
    {
     "name": "stdout",
     "output_type": "stream",
     "text": [
      "60\n"
     ]
    }
   ],
   "source": [
    "def add(x):\n",
    "    x=x+20\n",
    "    print(x)\n",
    "    \n",
    "add(40)    "
   ]
  },
  {
   "cell_type": "code",
   "execution_count": 3,
   "id": "b01163fa",
   "metadata": {},
   "outputs": [
    {
     "data": {
      "text/plain": [
       "40"
      ]
     },
     "execution_count": 3,
     "metadata": {},
     "output_type": "execute_result"
    }
   ],
   "source": [
    "def add(x,y):\n",
    "      return x+y\n",
    "\n",
    "add(10,30)"
   ]
  },
  {
   "cell_type": "code",
   "execution_count": null,
   "id": "d6d04e20",
   "metadata": {},
   "outputs": [],
   "source": []
  },
  {
   "cell_type": "code",
   "execution_count": null,
   "id": "44605890",
   "metadata": {},
   "outputs": [],
   "source": []
  },
  {
   "cell_type": "code",
   "execution_count": null,
   "id": "fa72971d",
   "metadata": {},
   "outputs": [],
   "source": []
  },
  {
   "cell_type": "code",
   "execution_count": null,
   "id": "ef536703",
   "metadata": {},
   "outputs": [],
   "source": []
  },
  {
   "cell_type": "code",
   "execution_count": null,
   "id": "535c4978",
   "metadata": {},
   "outputs": [],
   "source": []
  },
  {
   "cell_type": "code",
   "execution_count": null,
   "id": "52a39666",
   "metadata": {},
   "outputs": [],
   "source": []
  }
 ],
 "metadata": {
  "kernelspec": {
   "display_name": ".venv",
   "language": "python",
   "name": "python3"
  },
  "language_info": {
   "codemirror_mode": {
    "name": "ipython",
    "version": 3
   },
   "file_extension": ".py",
   "mimetype": "text/x-python",
   "name": "python",
   "nbconvert_exporter": "python",
   "pygments_lexer": "ipython3",
   "version": "3.10.6"
  }
 },
 "nbformat": 4,
 "nbformat_minor": 5
}
