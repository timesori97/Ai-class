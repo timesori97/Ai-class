{
 "cells": [
  {
   "cell_type": "code",
   "execution_count": null,
   "id": "ddfd82ab",
   "metadata": {},
   "outputs": [],
   "source": [
    "#파이썬 버전 3.10\n",
    "#파이썬에서 기본 제공하는 문법+ 라이브러리+ 프레임워크를 설치\n",
    "#원하는 서비스를 제공하는 것을 공부한다.\n",
    "\n",
    "#API 서버를 구축하기 위해서 필요한 프레임워크는 flask를 사용할 것이다."
   ]
  },
  {
   "cell_type": "code",
   "execution_count": null,
   "id": "f595ed8f",
   "metadata": {},
   "outputs": [],
   "source": [
    "#파이썬 기본 문법\n",
    "#파이썬은 js와 비슷하게 자료형을 명시하지 않는다\n",
    "#파이썬은 중괄호를 사용하지 않습니다"
   ]
  },
  {
   "cell_type": "code",
   "execution_count": null,
   "id": "cfb6b7d5",
   "metadata": {},
   "outputs": [],
   "source": [
    "#변수 생성과 출력\n",
    "a=10          # 변수 a를 선언하고 초기값으로 숫자 10을 대입\n",
    "print(a)      # 변수a의 값을 출력\n",
    "print(type(a))  #변수 a의 타입을 출력\n",
    "b='ttt'\n",
    "print(b)\n",
    "\n",
    "#코드를 실행 할 떄는 crtl +엔터"
   ]
  },
  {
   "cell_type": "code",
   "execution_count": null,
   "id": "deb06f6b",
   "metadata": {},
   "outputs": [],
   "source": [
    "#조건문(if문)\n",
    "a=35\n",
    "if a>30:\n",
    "    print('a는 30보다 크다')\n",
    "    a=a+20\n",
    "    print(a)\n",
    "print('종료')"
   ]
  },
  {
   "cell_type": "code",
   "execution_count": null,
   "id": "9d5350b0",
   "metadata": {},
   "outputs": [],
   "source": [
    "#함수 선언\n",
    "def aaa():\n",
    "    print('aaa function')\n",
    "aaa()"
   ]
  },
  {
   "cell_type": "code",
   "execution_count": null,
   "id": "98a8be4b",
   "metadata": {},
   "outputs": [],
   "source": [
    "def add(x):\n",
    "    x=x+20\n",
    "    print(x)\n",
    "add(40)"
   ]
  },
  {
   "cell_type": "code",
   "execution_count": null,
   "id": "5b60a5a8",
   "metadata": {},
   "outputs": [],
   "source": [
    "def add(x,y):\n",
    "    return x+y\n",
    "add(40,50)"
   ]
  },
  {
   "cell_type": "code",
   "execution_count": null,
   "id": "51ff85e0",
   "metadata": {},
   "outputs": [],
   "source": []
  },
  {
   "cell_type": "code",
   "execution_count": null,
   "id": "03c4a420",
   "metadata": {},
   "outputs": [],
   "source": []
  }
 ],
 "metadata": {
  "kernelspec": {
   "display_name": ".venv",
   "language": "python",
   "name": "python3"
  },
  "language_info": {
   "codemirror_mode": {
    "name": "ipython",
    "version": 3
   },
   "file_extension": ".py",
   "mimetype": "text/x-python",
   "name": "python",
   "nbconvert_exporter": "python",
   "pygments_lexer": "ipython3",
   "version": "3.10.6"
  }
 },
 "nbformat": 4,
 "nbformat_minor": 5
}
