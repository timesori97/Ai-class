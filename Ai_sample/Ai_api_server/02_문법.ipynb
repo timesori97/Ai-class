{
 "cells": [
  {
   "cell_type": "code",
   "execution_count": 1,
   "id": "995f7dee",
   "metadata": {},
   "outputs": [],
   "source": [
    "#변수 선언 \n",
    "a=20\n",
    "b='human'"
   ]
  },
  {
   "cell_type": "code",
   "execution_count": null,
   "id": "fc0b9577",
   "metadata": {},
   "outputs": [
    {
     "name": "stdout",
     "output_type": "stream",
     "text": [
      "20 -> human\n",
      "<class 'int'> <class 'str'>\n"
     ]
    },
    {
     "data": {
      "text/plain": [
       "2"
      ]
     },
     "execution_count": 5,
     "metadata": {},
     "output_type": "execute_result"
    }
   ],
   "source": [
    "#출력 \n",
    "print(a,'->',b)\n",
    "print(type(a),type(b))\n",
    "\n",
    "## 타입을 찍어 보는 이유는 타입마다 사용할 수 있는 연산자나 메서드가 다르기 때문이다 \n",
    "a+20    #a가 int 형이므로 사칙연산 + 가능\n",
    "b+'20'  #b가 String 이므로  +는 문자열 연결자 임.\n",
    "b[1]    #b가 String 이므로 인덱스를 갖고 있으니 1번째 인덱스의 문자를 출력\n",
    "b[1:4]  #b가 String 이므로 인덱스를 갖고 있다... 1번째 부터 4번전까지 문자를 가져와라 (슬라이싱이라고 한다.)\n",
    "\n",
    "\n",
    "\n",
    "a%3"
   ]
  },
  {
   "cell_type": "code",
   "execution_count": null,
   "id": "b2a718ad",
   "metadata": {},
   "outputs": [
    {
     "name": "stdout",
     "output_type": "stream",
     "text": [
      "a 는 25보다 크다\n",
      "종료\n"
     ]
    }
   ],
   "source": [
    "# 조건문 .. if \n",
    "a = 30 \n",
    "if a > 25:\n",
    "    print('a 는 25보다 크다')\n",
    "    print('종료')\n",
    "    \n",
    "##<참고> 파이썬에서는 중괄호가 없다 들여쓰기 구분. 들여쓰기의 갯수는 상관이 없지만 같은 블록에서는 일정해야 한다."
   ]
  },
  {
   "cell_type": "code",
   "execution_count": 22,
   "id": "0154d797",
   "metadata": {},
   "outputs": [
    {
     "name": "stdout",
     "output_type": "stream",
     "text": [
      "<class 'list'> <class 'list'>\n",
      "one\n",
      "['one', 'two']\n",
      "['one', 'two', 'three'] ['one', 'two']\n",
      "['one', 'two', 'three', 'four'] <built-in method index of list object at 0x000001D86EF95180>\n",
      "one\n",
      "two\n",
      "three\n",
      "four\n",
      "0 1 2 3 4 5 6 7 8 9 10 \n",
      "l2의 길이 4\n",
      "one\n",
      "two\n",
      "three\n",
      "four\n"
     ]
    }
   ],
   "source": [
    "## 파이썬에서는 배열과 비슷하게 생긴 리스트는 자료구조가 있다...\n",
    "l1 = list()\n",
    "l2 =['one','two','three']\n",
    "print(type(l1),type(l2))\n",
    "print(l2[0]) #리스트는 인덱스가 있고 0부터 시작한다... 암기 스트림할때 슬라이싱 했는데 이게 될까요?\n",
    "print(l2[0:2]) #슬라이싱도 가능하다\n",
    "l3 = l2[0:2]\n",
    "print(l2,l3)\n",
    "l2.append('four')\n",
    "print(l2,l2.index)\n",
    "\n",
    "for i in l2:  #순서가 있는 타입을 자동으로 순회하면서 값을 i에 저장하시오\n",
    "    print(i)\n",
    "    \n",
    "# 나는 0부터 1씩 증가하여 10까지 출력하고 싶어.. for(int i=0; i< l1; i++)\n",
    "for i in range(0,11):\n",
    "    print(i,end=' ')   #end=' ' 옵션을 추가하면 줄바꿈이 아니라. end 에서 저장한 것으로 대체 한다 \n",
    "\n",
    "print()    \n",
    "print('l2의 길이',len(l2))\n",
    "\n",
    "##자바처럼 코드를 작성해서 l2의 값을 출력 \n",
    "for i in range(0,len(l2)):\n",
    "    print(l2[i])"
   ]
  },
  {
   "cell_type": "code",
   "execution_count": 24,
   "id": "ebeb4714",
   "metadata": {},
   "outputs": [
    {
     "name": "stdout",
     "output_type": "stream",
     "text": [
      "[5, 9, 34, 56, 77, 100]\n",
      "[100, 77, 56, 34, 9, 5]\n"
     ]
    }
   ],
   "source": [
    "l3 = [9,77,34,56,100,5]\n",
    "l3.sort()\n",
    "print(l3)\n",
    "\n",
    "l3 = [9,77,34,56,100,5]\n",
    "l3.sort(reverse=True)\n",
    "print(l3)"
   ]
  },
  {
   "cell_type": "code",
   "execution_count": 28,
   "id": "8799c6f6",
   "metadata": {},
   "outputs": [
    {
     "name": "stdout",
     "output_type": "stream",
     "text": [
      "[1, 2, 3]\n",
      "[4, 5, 6]\n",
      "[7, 8, 9]\n",
      "123\n",
      "456\n",
      "789\n"
     ]
    }
   ],
   "source": [
    "l4=[[1,2,3],[4,5,6],[7,8,9]]\n",
    "for i in l4:\n",
    "    print(i)\n",
    "    \n",
    "for i in l4: #\n",
    "    for ii in i:\n",
    "        print(ii,end='')  #l4[i][ii]  /i랑 ii가 인덱스 이다라고 생각해서 범한 오류\n",
    "    print()"
   ]
  },
  {
   "cell_type": "code",
   "execution_count": null,
   "id": "d173c095",
   "metadata": {},
   "outputs": [],
   "source": [
    "### 딕셔너리 \n",
    "# key와 value로 구성 , 자바의 hashmap, 데이터전송의 json과 생김새가 아주 비슷하다.. 서로 다릅니다 비슷하다라고 정리 \n",
    "# key는 변하지 않게 사용한다 유니크하다 \n",
    "# value는 중복될 수 있다.."
   ]
  },
  {
   "cell_type": "code",
   "execution_count": 38,
   "id": "20d3f0c6",
   "metadata": {},
   "outputs": [
    {
     "name": "stdout",
     "output_type": "stream",
     "text": [
      "휴먼\n",
      "휴머니\n",
      "{'이름': '휴머니', '나이': 50, '전화번호': '010-1111-2222', 'kg': 100}\n",
      "100\n",
      "None\n",
      "<class 'dict_keys'> dict_keys(['이름', '나이', '전화번호', 'kg'])\n",
      "휴머니 휴머니\n",
      "50 50\n",
      "010-1111-2222 010-1111-2222\n",
      "100 100\n"
     ]
    }
   ],
   "source": [
    "person = {'이름':'휴먼','나이':50,'전화번호':'010-1111-2222'}\n",
    "person\n",
    "\n",
    "#키를 통해서 값을 가져올 수 있다 \n",
    "print(person['이름'])\n",
    "\n",
    "#키를 통해서 값을 변경할 수 있다.. (잘 기억해 두기)\n",
    "person['이름'] ='휴머니'\n",
    "print(person['이름'])\n",
    "\n",
    "\n",
    "#키를 통해서 키와 값을 추가할 수 있다..\n",
    "person['kg'] = 100\n",
    "print(person)\n",
    "\n",
    "#get메서드로 값을 가져올 수 있다.\n",
    "print(person.get('kg'))\n",
    "\n",
    "#키와 get의 차이 \n",
    "print(person.get('aaa')) ##리턴값이  none\n",
    "#print(person['aaa'])    ##결과가 error\n",
    "\n",
    "\n",
    "#키만 가져올 수 있다.\n",
    "p_key = person.keys()\n",
    "print(type(p_key),p_key)\n",
    "\n",
    "for i in p_key:\n",
    "    print(person[i],person.get(i))\n",
    "\n",
    "\n",
    "\n",
    "\n"
   ]
  },
  {
   "cell_type": "code",
   "execution_count": null,
   "id": "37c601c2",
   "metadata": {},
   "outputs": [
    {
     "name": "stdout",
     "output_type": "stream",
     "text": [
      "함수\n"
     ]
    }
   ],
   "source": [
    "# 함수정의하고 호출하기\n",
    "# 매개변수도 없고 리턴도 없는 형식\n",
    "def f1():\n",
    "    print('함수')\n",
    "    \n",
    "f1() ##호출"
   ]
  },
  {
   "cell_type": "code",
   "execution_count": 40,
   "id": "1265c2ec",
   "metadata": {},
   "outputs": [
    {
     "name": "stdout",
     "output_type": "stream",
     "text": [
      "100\n"
     ]
    }
   ],
   "source": [
    "# 매개변수 1개와 리턴값이 있는 경우 \n",
    "def f2(x):\n",
    "    return x*10\n",
    "\n",
    "a = f2(10)\n",
    "print(a)"
   ]
  },
  {
   "cell_type": "code",
   "execution_count": null,
   "id": "dcb5b5f3",
   "metadata": {},
   "outputs": [
    {
     "name": "stdout",
     "output_type": "stream",
     "text": [
      "41\n"
     ]
    }
   ],
   "source": [
    "# 매개변수 1개와 리턴값이 있는 경우 \n",
    "bias = 3\n",
    "def f3(x,y=1):\n",
    "    return x+y\n",
    "\n",
    "a=f3(40)\n",
    "print(a)\n",
    "\n",
    "#자바에서는 인자와 매개변수의 갯수를 일치 시켰지만 파이썬에서는 함수를 정의할 때 매개변수의 \n",
    "#초기값을 지정하여 정의 할 수 있다."
   ]
  },
  {
   "cell_type": "code",
   "execution_count": null,
   "id": "0be6e861",
   "metadata": {},
   "outputs": [],
   "source": []
  },
  {
   "cell_type": "code",
   "execution_count": null,
   "id": "f8acd8f2",
   "metadata": {},
   "outputs": [],
   "source": []
  },
  {
   "cell_type": "code",
   "execution_count": null,
   "id": "d9078050",
   "metadata": {},
   "outputs": [],
   "source": []
  },
  {
   "cell_type": "code",
   "execution_count": null,
   "id": "75386ac1",
   "metadata": {},
   "outputs": [],
   "source": []
  },
  {
   "cell_type": "code",
   "execution_count": null,
   "id": "1a2f8c0f",
   "metadata": {},
   "outputs": [],
   "source": []
  }
 ],
 "metadata": {
  "kernelspec": {
   "display_name": ".venv",
   "language": "python",
   "name": "python3"
  },
  "language_info": {
   "codemirror_mode": {
    "name": "ipython",
    "version": 3
   },
   "file_extension": ".py",
   "mimetype": "text/x-python",
   "name": "python",
   "nbconvert_exporter": "python",
   "pygments_lexer": "ipython3",
   "version": "3.10.6"
  }
 },
 "nbformat": 4,
 "nbformat_minor": 5
}
