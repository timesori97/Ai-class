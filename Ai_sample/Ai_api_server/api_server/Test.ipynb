{
 "cells": [
  {
   "cell_type": "code",
   "execution_count": 1,
   "id": "b990b8f1",
   "metadata": {},
   "outputs": [
    {
     "data": {
      "text/plain": [
       "20"
      ]
     },
     "execution_count": 1,
     "metadata": {},
     "output_type": "execute_result"
    }
   ],
   "source": [
    "a= 10\n",
    "b= 10\n",
    "a+b"
   ]
  },
  {
   "cell_type": "code",
   "execution_count": null,
   "id": "975394e5",
   "metadata": {},
   "outputs": [],
   "source": [
    "#파이썬 기본 문법 \n",
    "#파이썬은 js비슷하게 자료형을 명시하진 않는다 \n",
    "#파이썬은 중괄호를 사용하지 않습니다"
   ]
  },
  {
   "cell_type": "code",
   "execution_count": null,
   "id": "df2e9396",
   "metadata": {},
   "outputs": [],
   "source": [
    "# 파이썬 버전 3.10\n",
    "# 파이썬에서 기본 제공하는 문법 + 라이브러리 + 프레임워크를 \n",
    "# 설치하여 원하는 서비스를 제공하는 것을 공부한다 \n",
    "\n",
    "#API 서버를 구축하기 위해서 필요한 프레임워크는 flask를 사용할 것이다 "
   ]
  }
 ],
 "metadata": {
  "kernelspec": {
   "display_name": ".venv",
   "language": "python",
   "name": "python3"
  },
  "language_info": {
   "codemirror_mode": {
    "name": "ipython",
    "version": 3
   },
   "file_extension": ".py",
   "mimetype": "text/x-python",
   "name": "python",
   "nbconvert_exporter": "python",
   "pygments_lexer": "ipython3",
   "version": "3.10.6"
  }
 },
 "nbformat": 4,
 "nbformat_minor": 5
}
